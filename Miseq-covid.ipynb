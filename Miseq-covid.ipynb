{
 "cells": [
  {
   "cell_type": "markdown",
   "id": "signed-silver",
   "metadata": {},
   "source": [
    "# Analyze SARS-COV2 reads from Miseq (illumina) to get SARS-COV strain for samples"
   ]
  },
  {
   "cell_type": "markdown",
   "id": "stupid-forest",
   "metadata": {},
   "source": [
    "## Import and load stuff for python to work"
   ]
  },
  {
   "cell_type": "code",
   "execution_count": 84,
   "id": "personalized-adoption",
   "metadata": {},
   "outputs": [
    {
     "name": "stdout",
     "output_type": "stream",
     "text": [
      "The rmagic extension is already loaded. To reload it, use:\n",
      "  %reload_ext rmagic\n"
     ]
    }
   ],
   "source": [
    "%load_ext rmagic\n",
    "import pandas as pd"
   ]
  },
  {
   "cell_type": "markdown",
   "id": "synthetic-mistake",
   "metadata": {},
   "source": [
    "## Be sure that your dependencies are installed :\n",
    "- mamba \n",
    "- seqkit\n",
    "- csvtk\n",
    "- bbmap suite\n",
    "- bwa\n",
    "- samtools/sambamba\n",
    "- bamaddrg\n",
    "- freebayes"
   ]
  },
  {
   "cell_type": "markdown",
   "id": "immune-coverage",
   "metadata": {},
   "source": [
    "## Conda environment with dependencies"
   ]
  },
  {
   "cell_type": "markdown",
   "id": "interpreted-apache",
   "metadata": {},
   "source": [
    "..TODO yaml file to upload to github repository "
   ]
  },
  {
   "cell_type": "markdown",
   "id": "stupid-timer",
   "metadata": {},
   "source": [
    "## Have a look to the raw reads"
   ]
  },
  {
   "cell_type": "markdown",
   "id": "sixth-antigua",
   "metadata": {},
   "source": [
    "Create a samples.txt file with samples name"
   ]
  },
  {
   "cell_type": "code",
   "execution_count": 3,
   "id": "contrary-funds",
   "metadata": {},
   "outputs": [],
   "source": [
    "%%bash\n",
    "cd PRJNA673096\n",
    "ls -1 > ../samples.txt\n",
    "cd ../"
   ]
  },
  {
   "cell_type": "markdown",
   "id": "complimentary-seminar",
   "metadata": {},
   "source": [
    "Create a cvs file with seq numbers and min/max length"
   ]
  },
  {
   "cell_type": "code",
   "execution_count": null,
   "id": "hispanic-progressive",
   "metadata": {},
   "outputs": [],
   "source": [
    "%%bash\n",
    "touch PRJNA673096.raw\n",
    "for sample in `cat samples.txt`\n",
    "do\n",
    "seqkit stats PRJNA673096/${sample}/${sample}_1* | awk '!/file/{print $1,$4,$6,$8}' >> PRJNA673096.raw\n",
    "done\n",
    "cat  PRJNA673096.raw |sed -e \"s/,//g\" | sed -e \"s/_1.fastq.gz//g\" | sed -e \"s/ /,/g\" > PRJNA673096.csv\n",
    "cat PRJNA673096.csv | csvtk add-header -n sample,number_reads,min_length,max_length > PRJNA673096_raw.csv\n",
    "rm PRJNA673096.csv PRJNA673096.raw"
   ]
  },
  {
   "cell_type": "markdown",
   "id": "speaking-revision",
   "metadata": {},
   "source": [
    "Have a look of the fastq.gz raw files (number of reads and max_legnth)"
   ]
  },
  {
   "cell_type": "code",
   "execution_count": 51,
   "id": "fifteen-employee",
   "metadata": {},
   "outputs": [
    {
     "data": {
      "text/plain": [
       "array([[<AxesSubplot:title={'center':'number_reads'}>,\n",
       "        <AxesSubplot:title={'center':'max_length'}>]], dtype=object)"
      ]
     },
     "execution_count": 51,
     "metadata": {},
     "output_type": "execute_result"
    },
    {
     "data": {
      "image/png": "[encoded data removed]",
      "text/plain": [
       "<Figure size 1080x360 with 2 Axes>"
      ]
     },
     "metadata": {
      "needs_background": "light"
     },
     "output_type": "display_data"
    }
   ],
   "source": [
    "df1 = pd.read_csv(\"PRJNA673096_raw.csv\")\n",
    "df1.hist(column=['number_reads','max_length'],figsize=(15,5))"
   ]
  },
  {
   "cell_type": "markdown",
   "id": "instant-breeding",
   "metadata": {},
   "source": [
    "## QC analysis\n",
    "\n",
    "Will qc everything below 20 en phread and all reads with less than 100 pb with bbmap"
   ]
  },
  {
   "cell_type": "markdown",
   "id": "earlier-jesus",
   "metadata": {},
   "source": [
    "bbduk will take more than 1 core (not run in jupyter)"
   ]
  },
  {
   "cell_type": "code",
   "execution_count": null,
   "id": "conventional-nomination",
   "metadata": {},
   "outputs": [],
   "source": [
    "%%bash \n",
    "ADAPTORS='~/working_directory/Useful_Files/adapters.fa'\n",
    "for sample in `cat samples.txt`\n",
    "do\n",
    "bbduk.sh in=PRJNA673096/${sample}/${sample}_1.fastq.gz in2=PRJNA673096/${sample}/${sample}_2.fastq.gz out=01_QC/${sample}_Q1.fastq.gz out2=01_QC/${sample}_Q2.fastq.gz qtrim=r trimq=20 ref=$ADAPTORS maq=20 minlen=100\n",
    "done"
   ]
  },
  {
   "cell_type": "markdown",
   "id": "central-confusion",
   "metadata": {},
   "source": [
    "Check read lost with seqkit"
   ]
  },
  {
   "cell_type": "code",
   "execution_count": 88,
   "id": "agreed-johnson",
   "metadata": {},
   "outputs": [],
   "source": [
    "%%bash\n",
    "cd 01_QC\n",
    "seqkit stats *_Q1.fastq.gz |  awk '!/file/{print $1,$4,$6,$8}' | sed -e \"s/,//g\" | \n",
    "sed -e \"s/_1.fastq.gz//g\"  | sed -e \"s/ /,/g\" | csvtk add-header -n sample,number_reads,min_length,max_length > ../PRJNA673096_QC.csv"
   ]
  },
  {
   "cell_type": "markdown",
   "id": "blocked-slave",
   "metadata": {},
   "source": [
    "## Mapping "
   ]
  },
  {
   "cell_type": "code",
   "execution_count": 67,
   "id": "super-judgment",
   "metadata": {},
   "outputs": [],
   "source": [
    "%%bash\n",
    "cd ../"
   ]
  },
  {
   "cell_type": "markdown",
   "id": "lasting-exhibition",
   "metadata": {},
   "source": [
    "Steps in the loop:\n",
    "\n",
    "    1. Mapping with bbmap (with some statistics and logs) -> constats.txt and basecov.txt\n",
    "    2. Sorting and creating a bam file\n",
    "    3. Mark PCR duplicates that result from exact duplication of a template during amplification (sambamba creates a index file too) \n",
    "    \n",
    "** sambamba freeze in serine and not in alanine (do not run in serine nor valine)"
   ]
  },
  {
   "cell_type": "code",
   "execution_count": null,
   "id": "south-church",
   "metadata": {},
   "outputs": [],
   "source": [
    "%%bash\n",
    "bwa index wuhan.fasta\n",
    "for sample in `cat samples.txt`\n",
    "do\n",
    "bwa mem wuhan.fasta 01_QC/${sample}_Q1.fastq.gz 01_QC/${sample}_Q2.fastq.gz  > 02_map/${sample}.sam 2> 02_map/${sample}.align.log\n",
    "sambamba view -t 20 -S 02_map/${sample}.sam -f bam  | sambamba sort -o > 02_map/sorted_${sample}.bam \n",
    "\n",
    "\n",
    "\n",
    "sambamba markdup -t 30 $ 02_map/sorted_${sample}.bam 02_map/dup_${sample}_dup.bam\n",
    "done"
   ]
  },
  {
   "cell_type": "markdown",
   "id": "informal-microwave",
   "metadata": {},
   "source": [
    "Move all qualite log txt to a folder (there are a lot of them). Also for sam."
   ]
  },
  {
   "cell_type": "code",
   "execution_count": null,
   "id": "eleven-prediction",
   "metadata": {},
   "outputs": [],
   "source": [
    "%%bash\n",
    "mkdir 02_map/logs\n",
    "mv 02_map/*txt 02_map/logs\n",
    "mkdir 02_map/sam\n",
    "mv 02_map/*sam 02_map/sam"
   ]
  },
  {
   "cell_type": "markdown",
   "id": "historic-satellite",
   "metadata": {},
   "source": [
    "Name your files for joint calling with bamaddrg"
   ]
  },
  {
   "cell_type": "code",
   "execution_count": null,
   "id": "suitable-order",
   "metadata": {},
   "outputs": [],
   "source": [
    "%%bash\n",
    "mkdir 02_map/final_bam\n",
    "for sample in `cat samples.txt`\n",
    "do\n",
    "bamaddrg -b 02_map/${sample}_dup.bam -s ${sample} > 02_map/final_bam/${sample}_final.bam\n",
    "# and re-index\n",
    "samtools index 02_map/final_bam/${sample}_final.bam\n",
    "done"
   ]
  },
  {
   "cell_type": "markdown",
   "id": "hairy-cabin",
   "metadata": {},
   "source": [
    "## Creating a vcf from bam files with freebayes (joint calling)"
   ]
  },
  {
   "cell_type": "markdown",
   "id": "precise-honolulu",
   "metadata": {},
   "source": [
    "making a bam variable storing all bam files"
   ]
  },
  {
   "cell_type": "code",
   "execution_count": 86,
   "id": "eight-effects",
   "metadata": {},
   "outputs": [],
   "source": [
    "%%bash\n",
    "cd 02_map/final_bam"
   ]
  },
  {
   "cell_type": "code",
   "execution_count": null,
   "id": "architectural-aging",
   "metadata": {},
   "outputs": [],
   "source": [
    "BAMs=`ls *bam | python -c 'import sys; print(\" \".join([x.strip() for x in sys.stdin.readlines()]))'`"
   ]
  },
  {
   "cell_type": "code",
   "execution_count": 87,
   "id": "conceptual-sharp",
   "metadata": {},
   "outputs": [
    {
     "data": {
      "text/plain": [
       "'/WORKING_DIRECTORY/lvelo/covid19/MiSeq_Pipeline'"
      ]
     },
     "execution_count": 87,
     "metadata": {},
     "output_type": "execute_result"
    }
   ],
   "source": [
    "%%bash\n",
    "freebayes -f ../../wuhan.fasta --gvcf --ploidy 1 -C 10 -L bam.list | bgzip >../../PRJNA673096.vcf.gz"
   ]
  },
  {
   "cell_type": "code",
   "execution_count": null,
   "id": "chicken-rochester",
   "metadata": {},
   "outputs": [],
   "source": [
    "pwd\n"
   ]
  }
 ],
 "metadata": {
  "kernelspec": {
   "display_name": "Python 3",
   "language": "python",
   "name": "python3"
  },
  "language_info": {
   "codemirror_mode": {
    "name": "ipython",
    "version": 3
   },
   "file_extension": ".py",
   "mimetype": "text/x-python",
   "name": "python",
   "nbconvert_exporter": "python",
   "pygments_lexer": "ipython3",
   "version": "3.7.9"
  }
 },
 "nbformat": 4,
 "nbformat_minor": 5
}
